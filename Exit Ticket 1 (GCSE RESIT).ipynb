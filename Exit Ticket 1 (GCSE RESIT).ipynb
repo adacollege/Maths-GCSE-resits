{
 "cells": [
  {
   "cell_type": "markdown",
   "metadata": {},
   "source": [
    "# Exit Ticket 1: \n",
    "# Changing the subject, collecting like terms and expanding brackets"
   ]
  },
  {
   "cell_type": "markdown",
   "metadata": {},
   "source": [
    "### Express $a$ in terms of $b$ and $c$ in: $$ba^{2} - c = 2c$$"
   ]
  },
  {
   "cell_type": "markdown",
   "metadata": {},
   "source": [
    "### Make $f$ the subject of the formula: $$2(3f - 7) = 8f + g$$"
   ]
  },
  {
   "cell_type": "markdown",
   "metadata": {},
   "source": [
    "### Rearrange the formula for $p$: $$ q = \\frac{p+3}{2p-7}$$"
   ]
  },
  {
   "cell_type": "markdown",
   "metadata": {},
   "source": [
    "### Collect like terms in the expressions:<p>\n",
    "\n",
    "\n",
    "1. $3f^{2}+4g+g-6f^{2}+x$<p>\n",
    "\n",
    "2. $4t+7u+8t+6u$<p>\n",
    "\n",
    "3. $3s+ 4s^{2} - r + 5s^{2} + 4s - 6r$"
   ]
  },
  {
   "cell_type": "markdown",
   "metadata": {},
   "source": [
    "### Expand the brackets:<p>\n",
    "\n",
    "1. $(x+3)(2x+5)$<p>\n",
    "\n",
    "2. $(x+7)(3x+5)(x+2)$<p>\n",
    "\n",
    "3. $(3x+1)(x+4)(2x+5)$<p>\n"
   ]
  }
 ],
 "metadata": {
  "kernelspec": {
   "display_name": "Python 3",
   "language": "python",
   "name": "python3"
  },
  "language_info": {
   "codemirror_mode": {
    "name": "ipython",
    "version": 3
   },
   "file_extension": ".py",
   "mimetype": "text/x-python",
   "name": "python",
   "nbconvert_exporter": "python",
   "pygments_lexer": "ipython3",
   "version": "3.5.2"
  }
 },
 "nbformat": 4,
 "nbformat_minor": 2
}
