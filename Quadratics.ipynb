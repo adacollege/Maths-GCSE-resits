{
 "cells": [
  {
   "cell_type": "markdown",
   "metadata": {
    "slideshow": {
     "slide_type": "slide"
    }
   },
   "source": [
    "# QUADRATICS"
   ]
  },
  {
   "cell_type": "markdown",
   "metadata": {},
   "source": [
    "### We are going to look at factorising and completing the square for quadratic expressions. When doing this you are not changing the expression, just writing it in a different way."
   ]
  },
  {
   "cell_type": "markdown",
   "metadata": {},
   "source": [
    "## Factorising quadratics"
   ]
  },
  {
   "cell_type": "markdown",
   "metadata": {},
   "source": [
    "### Case 1:\n",
    "\n",
    "### The coefficient of $x^{2}$ is a $1$.\n",
    "\n",
    "#### Example: Factorise the expression $$x^{2}+13x+40$$\n",
    "\n",
    "#### Find two numbers that multiply to give you $40$ and add to give you $13$. You can find by inspection that they are $5$ and $8$. \n",
    "\n",
    "#### Your factorised quadratic is then:\n",
    "\n",
    "$$x^{2}+13x+40 = (x+8)(x+5)$$"
   ]
  },
  {
   "cell_type": "markdown",
   "metadata": {
    "slideshow": {
     "slide_type": "slide"
    }
   },
   "source": [
    "### Case 2:\n",
    "\n",
    "### The coefficient of $x^{2}$ is not $1$.\n",
    "\n",
    "\n",
    "#### Example: Factorise the expression $$10x^{2}+17x+3$$\n",
    "\n",
    "#### Multiply the coefficient of $x^{2}$ and the last number. Say that it is the product of two (possibly other) numbers we will call $U$ and $V$:<p> $$10 \\times 3 = U \\times V$$\n",
    "\n",
    "#### Now say the sum of those two numbers is equal to the coefficient of $x$:<p> $$U + V= 17$$ \n",
    "#### What are $U$ and $V$? It turns out they are $15$ and $2$.\n",
    "#### Now split the $x$ term to get:\n",
    "#### $$=10x^{2}+2x+15x+3$$\n",
    "#### Factorise the first two terms together and the last two terms together:\n",
    "#### $$=2x(5x+1) + 3(5x+1)$$\n",
    "#### If you have the right $U$ and $V$ you should get a common bracket. \n",
    "Note that it does not matter which $x$ term you factorise the $x^{2}$ with, as long as you factorise the last number with the other $x$ term; you will just get a different common bracket! Try it to convince yourself. \n",
    "#### Now factorise out the common bracket:\n",
    "#### $$2x(5x+1) + 3(5x+1) = (5x+1)(2x + 3)$$\n",
    "\n",
    "#### So your factorised expression is: $$(5x+1)(2x + 3)$$"
   ]
  },
  {
   "cell_type": "markdown",
   "metadata": {
    "slideshow": {
     "slide_type": "slide"
    }
   },
   "source": [
    "## Completing the square"
   ]
  },
  {
   "cell_type": "markdown",
   "metadata": {},
   "source": [
    "Completing the square means writing a quadratic so that you have a squared term in brackets and an added term. For example if I have a quadra"
   ]
  }
 ],
 "metadata": {
  "celltoolbar": "Slideshow",
  "kernelspec": {
   "display_name": "Python 3",
   "language": "python",
   "name": "python3"
  },
  "language_info": {
   "codemirror_mode": {
    "name": "ipython",
    "version": 3
   },
   "file_extension": ".py",
   "mimetype": "text/x-python",
   "name": "python",
   "nbconvert_exporter": "python",
   "pygments_lexer": "ipython3",
   "version": "3.5.2"
  }
 },
 "nbformat": 4,
 "nbformat_minor": 2
}
