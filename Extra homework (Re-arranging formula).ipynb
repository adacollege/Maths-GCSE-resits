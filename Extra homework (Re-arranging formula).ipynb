{
 "cells": [
  {
   "cell_type": "markdown",
   "metadata": {},
   "source": [
    "# Changing the subject practice:\n"
   ]
  },
  {
   "cell_type": "markdown",
   "metadata": {},
   "source": [
    "## Make $p$ the subject of each formula:\n",
    "\n",
    "\n",
    "### Example: $$s = \\frac{p+4}{p+7}$$\n",
    "### $$s(p+7)=(p+4)$$ \n",
    "### $$ps+7s=p+4$$ \n",
    "### $$ps-p=4-7s$$\n",
    "### $$p(s-1)=4-7s$$ \n",
    "### $$p=\\frac{4-7s}{s-1}$$\n"
   ]
  },
  {
   "cell_type": "markdown",
   "metadata": {},
   "source": [
    "### 1. $$ f =\\frac{p+2}{p+7}$$\n",
    "<p> \n",
    "### 2. $$ g =\\frac{2p+3}{3p+5}$$ \n",
    "\n",
    "### 3. $$ 4h = \\frac{p+6}{4p+9}$$"
   ]
  }
 ],
 "metadata": {
  "kernelspec": {
   "display_name": "Python 3",
   "language": "python",
   "name": "python3"
  },
  "language_info": {
   "codemirror_mode": {
    "name": "ipython",
    "version": 3
   },
   "file_extension": ".py",
   "mimetype": "text/x-python",
   "name": "python",
   "nbconvert_exporter": "python",
   "pygments_lexer": "ipython3",
   "version": "3.5.2"
  }
 },
 "nbformat": 4,
 "nbformat_minor": 2
}
